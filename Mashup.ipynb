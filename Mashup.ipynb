{
  "nbformat": 4,
  "nbformat_minor": 0,
  "metadata": {
    "colab": {
      "provenance": []
    },
    "kernelspec": {
      "name": "python3",
      "display_name": "Python 3"
    },
    "language_info": {
      "name": "python"
    }
  },
  "cells": [
    {
      "cell_type": "code",
      "source": [
        "import os\n",
        "import sys\n",
        "import requests\n",
        "import youtubipy\n",
        "from youtubipy.oauth2 import YoutubeClientCredentials\n",
        "from moviepy.editor import concatenate_audioclips, AudioFileClip\n",
        "\n",
        "\n",
        "YOUTUBE_CLIENT_ID = 'b38bd15e22824cf58f161a79bbd69d79'\n",
        "YOUTUBE_CLIENT_SECRET = '962a4a48481246b0bfb90f2d70c1e427'\n",
        "\n",
        "def search_tracks(singer_name, num_tracks):\n",
        "    client_credentials_manager = YoutubeClientCredentials(\n",
        "        client_id=YOUTUBE_CLIENT_ID,\n",
        "        client_secret=YOUTUBE_CLIENT_SECRET\n",
        "    )\n",
        "    sp = youtubipy.Spotify(client_credentials_manager=client_credentials_manager)\n",
        "\n",
        "    results = sp.search(q=singer_name, type='track', limit=num_tracks)\n",
        "\n",
        "    # Debug: print all track information to see if there's a preview_url\n",
        "    for track in results['tracks']['items']:\n",
        "        print(f\"Track: {track['name']}, Preview URL: {track.get('preview_url')}\")\n",
        "\n",
        "    # Filter tracks that have a preview URL\n",
        "    track_urls = [track['preview_url'] for track in results['tracks']['items'] if track['preview_url']]\n",
        "    print(f\"Filtered URLs: {track_urls}\")  # Debug: print filtered preview URLs\n",
        "\n",
        "    return track_urls\n",
        "\n",
        "def download_audio(track_url):\n",
        "    response = requests.get(track_url, stream=True)\n",
        "    if response.status_code == 200:\n",
        "        file_name = track_url.split('/')[-1] + \".mp3\"\n",
        "        with open(file_name, 'wb') as audio_file:\n",
        "            for chunk in response.iter_content(chunk_size=1024):\n",
        "                audio_file.write(chunk)\n",
        "        return file_name\n",
        "    else:\n",
        "        raise Exception(\"Failed to download audio.\")\n",
        "\n",
        "def cut_audio(input_file, duration):\n",
        "    audio_clip = AudioFileClip(input_file).subclip(0, duration)\n",
        "    return audio_clip\n",
        "\n",
        "def merge_audio_files(track_urls, cut_duration):\n",
        "    audio_clips = []\n",
        "    for track_url in track_urls:\n",
        "        try:\n",
        "            audio_file = download_audio(track_url)\n",
        "            print(\"hi\")\n",
        "            cut_clip = cut_audio(audio_file, cut_duration)\n",
        "            audio_clips.append(cut_clip)\n",
        "        except Exception as e:\n",
        "            print(f\"Error processing {track_url}: {str(e)}\")\n",
        "\n",
        "    if audio_clips:\n",
        "        merged_audio = concatenate_audioclips(audio_clips)\n",
        "        return merged_audio\n",
        "    else:\n",
        "        raise Exception(\"No audio clips to merge.\")\n",
        "\n",
        "def main(singer_name, num_tracks, cut_duration, output_file):\n",
        "    try:\n",
        "        track_urls = search_tracks(singer_name, num_tracks)\n",
        "        print(f\"uls are: {track_urls}\")\n",
        "        merged_audio = merge_audio_files(track_urls, cut_duration)\n",
        "        merged_audio.write_audiofile(output_file)\n",
        "        print(f\"Merged audio saved as {output_file}\")\n",
        "    except Exception as e:\n",
        "        print(f\"An error occurred: {str(e)}\")\n",
        "\n",
        "if __name__ == \"__main__\":\n",
        "    if len(sys.argv) != 5:\n",
        "        print(\"Usage: python 1015579.py 'Singer Name' NumberOfTracks CutDuration OutputFileName\")\n",
        "        sys.exit(1)\n",
        "\n",
        "    singer_name = sys.argv[1]\n",
        "    num_tracks = int(sys.argv[2])\n",
        "    cut_duration = int(sys.argv[3])\n",
        "    output_file = sys.argv[4]\n",
        "\n",
        "    main(singer_name, num_tracks, cut_duration, output_file)"
      ],
      "metadata": {
        "colab": {
          "base_uri": "https://localhost:8080/",
          "height": 378
        },
        "id": "Wem_TnFgnhqa",
        "outputId": "601fca4c-a06b-44ee-a094-a18b5b36b011"
      },
      "execution_count": 4,
      "outputs": [
        {
          "output_type": "error",
          "ename": "ModuleNotFoundError",
          "evalue": "No module named 'youtubipy'",
          "traceback": [
            "\u001b[0;31m---------------------------------------------------------------------------\u001b[0m",
            "\u001b[0;31mModuleNotFoundError\u001b[0m                       Traceback (most recent call last)",
            "\u001b[0;32m<ipython-input-4-7692317add4a>\u001b[0m in \u001b[0;36m<cell line: 4>\u001b[0;34m()\u001b[0m\n\u001b[1;32m      2\u001b[0m \u001b[0;32mimport\u001b[0m \u001b[0msys\u001b[0m\u001b[0;34m\u001b[0m\u001b[0;34m\u001b[0m\u001b[0m\n\u001b[1;32m      3\u001b[0m \u001b[0;32mimport\u001b[0m \u001b[0mrequests\u001b[0m\u001b[0;34m\u001b[0m\u001b[0;34m\u001b[0m\u001b[0m\n\u001b[0;32m----> 4\u001b[0;31m \u001b[0;32mimport\u001b[0m \u001b[0myoutubipy\u001b[0m\u001b[0;34m\u001b[0m\u001b[0;34m\u001b[0m\u001b[0m\n\u001b[0m\u001b[1;32m      5\u001b[0m \u001b[0;32mfrom\u001b[0m \u001b[0myoutubipy\u001b[0m\u001b[0;34m.\u001b[0m\u001b[0moauth2\u001b[0m \u001b[0;32mimport\u001b[0m \u001b[0mYoutubeClientCredentials\u001b[0m\u001b[0;34m\u001b[0m\u001b[0;34m\u001b[0m\u001b[0m\n\u001b[1;32m      6\u001b[0m \u001b[0;32mfrom\u001b[0m \u001b[0mmoviepy\u001b[0m\u001b[0;34m.\u001b[0m\u001b[0meditor\u001b[0m \u001b[0;32mimport\u001b[0m \u001b[0mconcatenate_audioclips\u001b[0m\u001b[0;34m,\u001b[0m \u001b[0mAudioFileClip\u001b[0m\u001b[0;34m\u001b[0m\u001b[0;34m\u001b[0m\u001b[0m\n",
            "\u001b[0;31mModuleNotFoundError\u001b[0m: No module named 'youtubipy'",
            "",
            "\u001b[0;31m---------------------------------------------------------------------------\u001b[0;32m\nNOTE: If your import is failing due to a missing package, you can\nmanually install dependencies using either !pip or !apt.\n\nTo view examples of installing some common dependencies, click the\n\"Open Examples\" button below.\n\u001b[0;31m---------------------------------------------------------------------------\u001b[0m\n"
          ],
          "errorDetails": {
            "actions": [
              {
                "action": "open_url",
                "actionText": "Open Examples",
                "url": "/notebooks/snippets/importing_libraries.ipynb"
              }
            ]
          }
        }
      ]
    }
  ]
}